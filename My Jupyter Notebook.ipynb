{
 "cells": [
  {
   "cell_type": "markdown",
   "id": "442f0895-cb22-4dc9-9d71-07a2101683b2",
   "metadata": {},
   "source": [
    "# My Jupyter Notebook on IBM Watson Studio"
   ]
  },
  {
   "cell_type": "markdown",
   "id": "15ae5981-6419-4a0e-bbb4-a8c68ae8fbcb",
   "metadata": {},
   "source": [
    "**ERIC A. CUNANAN**\n",
    "\n",
    "Electrical Engineer"
   ]
  },
  {
   "cell_type": "markdown",
   "id": "27648694-3e77-4f07-80ab-527e3066a5cf",
   "metadata": {},
   "source": [
    "*I am interested in data science because data can change the world the way its powered.*"
   ]
  },
  {
   "cell_type": "markdown",
   "id": "83cf9cf9-50a8-47c2-9c09-240b4492f306",
   "metadata": {},
   "source": [
    "### The function creates a NumPy array containing all zeros of a specific size. Example 5 by 5"
   ]
  },
  {
   "cell_type": "code",
   "execution_count": 4,
   "id": "640c4102-9f93-4092-b715-1ca4f976c028",
   "metadata": {},
   "outputs": [
    {
     "data": {
      "text/plain": [
       "array([[0., 0., 0., 0., 0.],\n",
       "       [0., 0., 0., 0., 0.],\n",
       "       [0., 0., 0., 0., 0.],\n",
       "       [0., 0., 0., 0., 0.],\n",
       "       [0., 0., 0., 0., 0.]])"
      ]
     },
     "execution_count": 4,
     "metadata": {},
     "output_type": "execute_result"
    }
   ],
   "source": [
    "import numpy as np\n",
    "np.zeros((5,5))"
   ]
  },
  {
   "cell_type": "markdown",
   "id": "7740f680-ed63-4b03-9dd5-a56ec9d0ed23",
   "metadata": {},
   "source": [
    "---\n",
    "---\n",
    "\n",
    "[CLICK HERE] to enter **Facebook**!\n",
    "\n",
    "[CLICK HERE]: https://www.facebook.com\n",
    "\n",
    "---\n",
    "---\n",
    "\n",
    "#### Here's their logo\n",
    "\n",
    "\n",
    "**Twitter:**\n",
    "\n",
    "![alt text](https://static.dezeen.com/uploads/2012/06/dezeen_twitter-bird.gif \"Logo Title Text 1\")\n",
    "\n",
    "**Facebook:**\n",
    "\n",
    "![alt text](https://encrypted-tbn0.gstatic.com/images?q=tbn:ANd9GcQPl0s8UHFa04top5NJz7lFeghEZ-qrlcBDeJ1q9M-5-RnJt3rcqWE49lEaUcbkwQmE5F8&usqp=CAU \"Logo Title Text 1\")\n",
    "\n",
    "---\n",
    "---\n",
    "\n",
    "+ python\n",
    "+ R\n",
    "+ SQL\n",
    "1. RStudio\n",
    "1. Jupyter Notebook\n",
    "4. Watson Studio\n",
    "\n",
    "---\n",
    "\n",
    "![alt text](https://media.istockphoto.com/photos/paint-splatter-thank-you-picture-id1132817705?b=1&k=20&m=1132817705&s=170667a&w=0&h=fAlE3Lb0PPIySZ_otp-vv92H7F-e1lu4VjrFg4bJAUk= \"Logo Title Text 1\")\n",
    "\n"
   ]
  }
 ],
 "metadata": {
  "kernelspec": {
   "display_name": "Python",
   "language": "python",
   "name": "conda-env-python-py"
  },
  "language_info": {
   "codemirror_mode": {
    "name": "ipython",
    "version": 3
   },
   "file_extension": ".py",
   "mimetype": "text/x-python",
   "name": "python",
   "nbconvert_exporter": "python",
   "pygments_lexer": "ipython3",
   "version": "3.6.13"
  }
 },
 "nbformat": 4,
 "nbformat_minor": 5
}
